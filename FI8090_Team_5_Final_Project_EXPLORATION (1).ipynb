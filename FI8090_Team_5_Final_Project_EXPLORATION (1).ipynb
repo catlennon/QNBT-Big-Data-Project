{
  "cells": [
    {
      "cell_type": "code",
      "execution_count": null,
      "metadata": {
        "colab": {
          "base_uri": "https://localhost:8080/"
        },
        "id": "2RFooLnjT_dM",
        "outputId": "0b1f55e7-1a92-4e7e-8657-17415e3cc59c"
      },
      "outputs": [
        {
          "output_type": "stream",
          "name": "stdout",
          "text": [
            "Looking in indexes: https://pypi.org/simple, https://us-python.pkg.dev/colab-wheels/public/simple/\n",
            "Requirement already satisfied: stats in /usr/local/lib/python3.8/dist-packages (0.1.2a0)\n",
            "Looking in indexes: https://pypi.org/simple, https://us-python.pkg.dev/colab-wheels/public/simple/\n",
            "\u001b[31mERROR: Could not find a version that satisfies the requirement scipy.stats (from versions: none)\u001b[0m\n",
            "\u001b[31mERROR: No matching distribution found for scipy.stats\u001b[0m\n",
            "Looking in indexes: https://pypi.org/simple, https://us-python.pkg.dev/colab-wheels/public/simple/\n",
            "Requirement already satisfied: pandas in /usr/local/lib/python3.8/dist-packages (1.3.5)\n",
            "Requirement already satisfied: python-dateutil>=2.7.3 in /usr/local/lib/python3.8/dist-packages (from pandas) (2.8.2)\n",
            "Requirement already satisfied: pytz>=2017.3 in /usr/local/lib/python3.8/dist-packages (from pandas) (2022.6)\n",
            "Requirement already satisfied: numpy>=1.17.3 in /usr/local/lib/python3.8/dist-packages (from pandas) (1.21.6)\n",
            "Requirement already satisfied: six>=1.5 in /usr/local/lib/python3.8/dist-packages (from python-dateutil>=2.7.3->pandas) (1.15.0)\n",
            "   Number of Accounts  Number of Churned Accounts  Accounts Remaining  \\\n",
            "0                   1                           0                   1   \n",
            "1                   1                           0                   1   \n",
            "2                   1                           0                   1   \n",
            "3                   1                           0                   1   \n",
            "4                   1                           0                   1   \n",
            "\n",
            "   Customer-Level Churn  Churned Age_demographics Customer_type  \\\n",
            "0                     0        0            Gen X      Personal   \n",
            "1                     0        0            Gen X      Personal   \n",
            "2                     0        0       Millennial      Personal   \n",
            "3                     0        0           Boomer      Personal   \n",
            "4                     0        0           Boomer      Personal   \n",
            "\n",
            "  Personal_customer_type  #_CK_Cust  #_Debit_Card_Cust  ...  \\\n",
            "0             Individual          1                  0  ...   \n",
            "1             Individual          1                  0  ...   \n",
            "2             Individual          1                  0  ...   \n",
            "3             Individual          1                  0  ...   \n",
            "4             Individual          1                  0  ...   \n",
            "\n",
            "   Mortgage_Customer  Time_deposit_balance  Loan_balance  Credit_Card_Limit  \\\n",
            "0                  0                   0.0           0.0                  0   \n",
            "1                  0                   0.0           0.0                  0   \n",
            "2                  0                   0.0           0.0                  0   \n",
            "3                  0                   0.0           0.0                  0   \n",
            "4                  0                   0.0           0.0                  0   \n",
            "\n",
            "   WM_Market_Value  Last_Mortgage_Loan_Amount  Credit_Card_Flag  \\\n",
            "0              0.0                          0                 0   \n",
            "1              0.0                          0                 0   \n",
            "2              0.0                          0                 0   \n",
            "3              0.0                          0                 0   \n",
            "4              0.0                          0                 0   \n",
            "\n",
            "   Number_Days_Past_Due_Loans  Customer_Since  Years as a Customer  \n",
            "0                           0        12/28/94                27.50  \n",
            "1                           0        11/15/05                16.58  \n",
            "2                           0          2/4/03                19.33  \n",
            "3                           0          1/3/05                17.42  \n",
            "4                           0        10/15/02                19.67  \n",
            "\n",
            "[5 rows x 26 columns]\n"
          ]
        }
      ],
      "source": [
        "#Install Relevant Packages\n",
        "!pip install stats\n",
        "!pip install scipy.stats\n",
        "!pip install pandas\n",
        "\n",
        "import numpy as np\n",
        "import matplotlib.pyplot as plt\n",
        "import seaborn as sns\n",
        "import statsmodels.api as sm\n",
        "import statsmodels.formula.api as smf\n",
        "import pandas as pd\n",
        "\n",
        "from sklearn import linear_model\n",
        "from sklearn.model_selection import train_test_split\n",
        "from sklearn.linear_model import LinearRegression\n",
        "from sklearn.linear_model import LogisticRegression\n",
        "from sklearn import metrics\n",
        "from mpl_toolkits.mplot3d import Axes3D\n",
        "from imblearn.under_sampling import RandomUnderSampler\n",
        "from sklearn.datasets import make_classification\n",
        "\n",
        "#read the QNBT data\n",
        "churn = pd.read_csv('/content/FinalProject_Efficient.csv')\n",
        "\n",
        "#read the Experience Correlates Data\n",
        "ec_df = pd.read_csv('/content/ExperienceCorrelates.csv')\n",
        "\n",
        "#read the Personal Customer Churn Data\n",
        "pcc_df = pd.read_csv('/content/Personal_Customer_Churn_updated.csv')\n",
        "\n",
        "#view first 5 rows of data\n",
        "print(pcc_df[:5])"
      ]
    },
    {
      "cell_type": "code",
      "source": [
        "#Check for Null Values\n",
        "churn.isnull().head()\n",
        "churn.isnull().sum()\n",
        "\n",
        "ec_df.isnull().head()\n",
        "ec_df.isnull().sum()\n",
        "\n",
        "pcc_df.isnull().head()\n",
        "pcc_df.isnull().sum()"
      ],
      "metadata": {
        "colab": {
          "base_uri": "https://localhost:8080/"
        },
        "id": "N8MOKH3S4AbP",
        "outputId": "d15f511e-69fc-4084-c779-d3093a2d2fdf"
      },
      "execution_count": null,
      "outputs": [
        {
          "output_type": "execute_result",
          "data": {
            "text/plain": [
              "Number of Accounts            0\n",
              "Number of Churned Accounts    0\n",
              "Accounts Remaining            0\n",
              "Customer-Level Churn          0\n",
              "Churned                       0\n",
              "Age_demographics              0\n",
              "Customer_type                 0\n",
              "Personal_customer_type        0\n",
              "#_CK_Cust                     0\n",
              "#_Debit_Card_Cust             0\n",
              "#_SV_Cust                     0\n",
              "#_TD_Cust                     0\n",
              "#_Loan_Cust                   0\n",
              "#_SDB_Cust                    0\n",
              "VRU_90_days                   0\n",
              "WM_Customer                   0\n",
              "Mortgage_Customer             0\n",
              "Time_deposit_balance          0\n",
              "Loan_balance                  0\n",
              "Credit_Card_Limit             0\n",
              "WM_Market_Value               0\n",
              "Last_Mortgage_Loan_Amount     0\n",
              "Credit_Card_Flag              0\n",
              "Number_Days_Past_Due_Loans    0\n",
              "Customer_Since                0\n",
              "Years as a Customer           0\n",
              "dtype: int64"
            ]
          },
          "metadata": {},
          "execution_count": 4
        }
      ]
    },
    {
      "cell_type": "code",
      "source": [
        "#Counting 1 and 0 Value in Churn column\n",
        "color_wheel = {1: \"#0392cf\", 2: \"#7bc043\"}\n",
        "colors = churn[\"Churned\"].map(lambda x: color_wheel.get(x + 1))\n",
        "print(churn[\"Churned\"].value_counts())\n",
        "p=churn[\"Churned\"].value_counts().plot(kind=\"bar\")"
      ],
      "metadata": {
        "colab": {
          "base_uri": "https://localhost:8080/",
          "height": 314
        },
        "id": "cP_SdFIC4gMS",
        "outputId": "0a295c38-2f5b-45c6-87af-89c58a4009cd"
      },
      "execution_count": null,
      "outputs": [
        {
          "output_type": "stream",
          "name": "stdout",
          "text": [
            "0    55505\n",
            "1     1547\n",
            "Name: Churned, dtype: int64\n"
          ]
        },
        {
          "output_type": "display_data",
          "data": {
            "text/plain": [
              "<Figure size 432x288 with 1 Axes>"
            ],
            "image/png": "[encoded data removed]"
          },
          "metadata": {
            "needs_background": "light"
          }
        }
      ]
    },
    {
      "cell_type": "code",
      "source": [
        "#Counting 1 and 0 Value in Churn column for Personal Customers\n",
        "color_wheel = {1: \"#0392cf\", 2: \"#7bc043\"}\n",
        "colors = pcc_df[\"Churned\"].map(lambda x: color_wheel.get(x + 1))\n",
        "print(pcc_df[\"Churned\"].value_counts())\n",
        "p=pcc_df[\"Churned\"].value_counts().plot(kind=\"bar\")"
      ],
      "metadata": {
        "colab": {
          "base_uri": "https://localhost:8080/",
          "height": 314
        },
        "id": "rOgW-G6BhREK",
        "outputId": "f16f68a1-40a0-4955-a96b-3b5622f9f821"
      },
      "execution_count": null,
      "outputs": [
        {
          "output_type": "stream",
          "name": "stdout",
          "text": [
            "0    35748\n",
            "1     1159\n",
            "Name: Churned, dtype: int64\n"
          ]
        },
        {
          "output_type": "display_data",
          "data": {
            "text/plain": [
              "<Figure size 432x288 with 1 Axes>"
            ],
            "image/png": "[encoded data removed]"
          },
          "metadata": {
            "needs_background": "light"
          }
        }
      ]
    },
    {
      "cell_type": "code",
      "source": [
        "churn.dtypes\n",
        "ec_df.dtypes"
      ],
      "metadata": {
        "colab": {
          "base_uri": "https://localhost:8080/"
        },
        "id": "cD7YKfhq5C7t",
        "outputId": "d997de3c-78ad-4883-ed5c-2c7527423809"
      },
      "execution_count": null,
      "outputs": [
        {
          "output_type": "execute_result",
          "data": {
            "text/plain": [
              "Churned                            int64\n",
              "Open_Date                         object\n",
              "Branch_number                      int64\n",
              "Overdraft_fees_YTD                 int64\n",
              "Return_fees_YTD                    int64\n",
              "Overdrafts_Charged_QTD             int64\n",
              "Overdrafts_Waived_QTD              int64\n",
              "Service_Charges                  float64\n",
              "Overdraft_and_Return_Fees          int64\n",
              "Transaction_Fees                   int64\n",
              "Type_Code                          int64\n",
              "Fibonacci_Experience               int64\n",
              "Experience_Based_on_Status         int64\n",
              "Status_code                       object\n",
              "Online_Statement_Flag             object\n",
              "Age_demographics                  object\n",
              "Customer_Exposure                  int64\n",
              "Credit_Card_Flag                   int64\n",
              "Number_Days_Past_Due_Loans         int64\n",
              "Years_as_a_Customer              float64\n",
              "Customer_Since                    object\n",
              "Number_of_Transactions             int64\n",
              "Interest_Payment                   int64\n",
              "Deposits_Count                     int64\n",
              "Mobile_Deposits_Counts             int64\n",
              "ACH_Deposits_Count                 int64\n",
              "ACH_Deposits                       int64\n",
              "POS_Debits                         int64\n",
              "Check_Card_Transactions_Count      int64\n",
              "RDC_Deposits_Count                 int64\n",
              "Days_Since_Last_OLB_Activity       int64\n",
              "Money_Mgmt_90_Day_Active           int64\n",
              "SMS_90_Day_Active                  int64\n",
              "Alerts_90_Day_Active               int64\n",
              "App_90_Day_Active                  int64\n",
              "Tablet_90_Day_Active               int64\n",
              "BP_Status                         object\n",
              "Number_of_Bill_Payments            int64\n",
              "dtype: object"
            ]
          },
          "metadata": {},
          "execution_count": 7
        }
      ]
    },
    {
      "cell_type": "code",
      "source": [
        "plt.figure(figsize=(16,16))\n",
        "sns.heatmap(ec_df.corr(), fmt='.2g', square=True)"
      ],
      "metadata": {
        "colab": {
          "base_uri": "https://localhost:8080/",
          "height": 841
        },
        "id": "Lm-NG4Ml5Mp3",
        "outputId": "9ad9c30f-e7af-4b52-dad9-921b0a990250"
      },
      "execution_count": null,
      "outputs": [
        {
          "output_type": "execute_result",
          "data": {
            "text/plain": [
              "<matplotlib.axes._subplots.AxesSubplot at 0x7fcd72753a60>"
            ]
          },
          "metadata": {},
          "execution_count": 8
        },
        {
          "output_type": "display_data",
          "data": {
            "text/plain": [
              "<Figure size 1152x1152 with 2 Axes>"
            ],
            "image/png": "[encoded data removed]"
          },
          "metadata": {
            "needs_background": "light"
          }
        }
      ]
    },
    {
      "cell_type": "code",
      "source": [
        "plt.figure(figsize=(16,16))\n",
        "sns.heatmap(pcc_df.corr(), fmt='.2g', square=True)"
      ],
      "metadata": {
        "colab": {
          "base_uri": "https://localhost:8080/",
          "height": 840
        },
        "id": "VYZxdE3Bhdo-",
        "outputId": "c5675ea0-9368-4f13-b713-f85c425d1421"
      },
      "execution_count": null,
      "outputs": [
        {
          "output_type": "execute_result",
          "data": {
            "text/plain": [
              "<matplotlib.axes._subplots.AxesSubplot at 0x7fcd561febb0>"
            ]
          },
          "metadata": {},
          "execution_count": 9
        },
        {
          "output_type": "display_data",
          "data": {
            "text/plain": [
              "<Figure size 1152x1152 with 2 Axes>"
            ],
            "image/png": "[encoded data removed]"
          },
          "metadata": {
            "needs_background": "light"
          }
        }
      ]
    },
    {
      "cell_type": "code",
      "execution_count": null,
      "metadata": {
        "colab": {
          "base_uri": "https://localhost:8080/",
          "height": 537
        },
        "id": "ApSUymnsUyoF",
        "outputId": "f7d22d8e-03ef-4017-e6e1-282402ece615"
      },
      "outputs": [
        {
          "output_type": "error",
          "ename": "KeyError",
          "evalue": "ignored",
          "traceback": [
            "\u001b[0;31m---------------------------------------------------------------------------\u001b[0m",
            "\u001b[0;31mKeyError\u001b[0m                                  Traceback (most recent call last)",
            "\u001b[0;32m/usr/local/lib/python3.8/dist-packages/pandas/core/indexes/base.py\u001b[0m in \u001b[0;36mget_loc\u001b[0;34m(self, key, method, tolerance)\u001b[0m\n\u001b[1;32m   3360\u001b[0m             \u001b[0;32mtry\u001b[0m\u001b[0;34m:\u001b[0m\u001b[0;34m\u001b[0m\u001b[0;34m\u001b[0m\u001b[0m\n\u001b[0;32m-> 3361\u001b[0;31m                 \u001b[0;32mreturn\u001b[0m \u001b[0mself\u001b[0m\u001b[0;34m.\u001b[0m\u001b[0m_engine\u001b[0m\u001b[0;34m.\u001b[0m\u001b[0mget_loc\u001b[0m\u001b[0;34m(\u001b[0m\u001b[0mcasted_key\u001b[0m\u001b[0;34m)\u001b[0m\u001b[0;34m\u001b[0m\u001b[0;34m\u001b[0m\u001b[0m\n\u001b[0m\u001b[1;32m   3362\u001b[0m             \u001b[0;32mexcept\u001b[0m \u001b[0mKeyError\u001b[0m \u001b[0;32mas\u001b[0m \u001b[0merr\u001b[0m\u001b[0;34m:\u001b[0m\u001b[0;34m\u001b[0m\u001b[0;34m\u001b[0m\u001b[0m\n",
            "\u001b[0;32m/usr/local/lib/python3.8/dist-packages/pandas/_libs/index.pyx\u001b[0m in \u001b[0;36mpandas._libs.index.IndexEngine.get_loc\u001b[0;34m()\u001b[0m\n",
            "\u001b[0;32m/usr/local/lib/python3.8/dist-packages/pandas/_libs/index.pyx\u001b[0m in \u001b[0;36mpandas._libs.index.IndexEngine.get_loc\u001b[0;34m()\u001b[0m\n",
            "\u001b[0;32mpandas/_libs/hashtable_class_helper.pxi\u001b[0m in \u001b[0;36mpandas._libs.hashtable.PyObjectHashTable.get_item\u001b[0;34m()\u001b[0m\n",
            "\u001b[0;32mpandas/_libs/hashtable_class_helper.pxi\u001b[0m in \u001b[0;36mpandas._libs.hashtable.PyObjectHashTable.get_item\u001b[0;34m()\u001b[0m\n",
            "\u001b[0;31mKeyError\u001b[0m: 'Years_as_a_Customer'",
            "\nThe above exception was the direct cause of the following exception:\n",
            "\u001b[0;31mKeyError\u001b[0m                                  Traceback (most recent call last)",
            "\u001b[0;32m<ipython-input-12-98ff759e3c62>\u001b[0m in \u001b[0;36m<module>\u001b[0;34m\u001b[0m\n\u001b[1;32m      1\u001b[0m \u001b[0;31m#Summary Stat for Years as a Customer\u001b[0m\u001b[0;34m\u001b[0m\u001b[0;34m\u001b[0m\u001b[0;34m\u001b[0m\u001b[0m\n\u001b[0;32m----> 2\u001b[0;31m \u001b[0mchurn\u001b[0m\u001b[0;34m[\u001b[0m\u001b[0;34m'Years_as_a_Customer'\u001b[0m\u001b[0;34m]\u001b[0m\u001b[0;34m.\u001b[0m\u001b[0mdescribe\u001b[0m\u001b[0;34m(\u001b[0m\u001b[0;34m)\u001b[0m\u001b[0;34m\u001b[0m\u001b[0;34m\u001b[0m\u001b[0m\n\u001b[0m",
            "\u001b[0;32m/usr/local/lib/python3.8/dist-packages/pandas/core/frame.py\u001b[0m in \u001b[0;36m__getitem__\u001b[0;34m(self, key)\u001b[0m\n\u001b[1;32m   3456\u001b[0m             \u001b[0;32mif\u001b[0m \u001b[0mself\u001b[0m\u001b[0;34m.\u001b[0m\u001b[0mcolumns\u001b[0m\u001b[0;34m.\u001b[0m\u001b[0mnlevels\u001b[0m \u001b[0;34m>\u001b[0m \u001b[0;36m1\u001b[0m\u001b[0;34m:\u001b[0m\u001b[0;34m\u001b[0m\u001b[0;34m\u001b[0m\u001b[0m\n\u001b[1;32m   3457\u001b[0m                 \u001b[0;32mreturn\u001b[0m \u001b[0mself\u001b[0m\u001b[0;34m.\u001b[0m\u001b[0m_getitem_multilevel\u001b[0m\u001b[0;34m(\u001b[0m\u001b[0mkey\u001b[0m\u001b[0;34m)\u001b[0m\u001b[0;34m\u001b[0m\u001b[0;34m\u001b[0m\u001b[0m\n\u001b[0;32m-> 3458\u001b[0;31m             \u001b[0mindexer\u001b[0m \u001b[0;34m=\u001b[0m \u001b[0mself\u001b[0m\u001b[0;34m.\u001b[0m\u001b[0mcolumns\u001b[0m\u001b[0;34m.\u001b[0m\u001b[0mget_loc\u001b[0m\u001b[0;34m(\u001b[0m\u001b[0mkey\u001b[0m\u001b[0;34m)\u001b[0m\u001b[0;34m\u001b[0m\u001b[0;34m\u001b[0m\u001b[0m\n\u001b[0m\u001b[1;32m   3459\u001b[0m             \u001b[0;32mif\u001b[0m \u001b[0mis_integer\u001b[0m\u001b[0;34m(\u001b[0m\u001b[0mindexer\u001b[0m\u001b[0;34m)\u001b[0m\u001b[0;34m:\u001b[0m\u001b[0;34m\u001b[0m\u001b[0;34m\u001b[0m\u001b[0m\n\u001b[1;32m   3460\u001b[0m                 \u001b[0mindexer\u001b[0m \u001b[0;34m=\u001b[0m \u001b[0;34m[\u001b[0m\u001b[0mindexer\u001b[0m\u001b[0;34m]\u001b[0m\u001b[0;34m\u001b[0m\u001b[0;34m\u001b[0m\u001b[0m\n",
            "\u001b[0;32m/usr/local/lib/python3.8/dist-packages/pandas/core/indexes/base.py\u001b[0m in \u001b[0;36mget_loc\u001b[0;34m(self, key, method, tolerance)\u001b[0m\n\u001b[1;32m   3361\u001b[0m                 \u001b[0;32mreturn\u001b[0m \u001b[0mself\u001b[0m\u001b[0;34m.\u001b[0m\u001b[0m_engine\u001b[0m\u001b[0;34m.\u001b[0m\u001b[0mget_loc\u001b[0m\u001b[0;34m(\u001b[0m\u001b[0mcasted_key\u001b[0m\u001b[0;34m)\u001b[0m\u001b[0;34m\u001b[0m\u001b[0;34m\u001b[0m\u001b[0m\n\u001b[1;32m   3362\u001b[0m             \u001b[0;32mexcept\u001b[0m \u001b[0mKeyError\u001b[0m \u001b[0;32mas\u001b[0m \u001b[0merr\u001b[0m\u001b[0;34m:\u001b[0m\u001b[0;34m\u001b[0m\u001b[0;34m\u001b[0m\u001b[0m\n\u001b[0;32m-> 3363\u001b[0;31m                 \u001b[0;32mraise\u001b[0m \u001b[0mKeyError\u001b[0m\u001b[0;34m(\u001b[0m\u001b[0mkey\u001b[0m\u001b[0;34m)\u001b[0m \u001b[0;32mfrom\u001b[0m \u001b[0merr\u001b[0m\u001b[0;34m\u001b[0m\u001b[0;34m\u001b[0m\u001b[0m\n\u001b[0m\u001b[1;32m   3364\u001b[0m \u001b[0;34m\u001b[0m\u001b[0m\n\u001b[1;32m   3365\u001b[0m         \u001b[0;32mif\u001b[0m \u001b[0mis_scalar\u001b[0m\u001b[0;34m(\u001b[0m\u001b[0mkey\u001b[0m\u001b[0;34m)\u001b[0m \u001b[0;32mand\u001b[0m \u001b[0misna\u001b[0m\u001b[0;34m(\u001b[0m\u001b[0mkey\u001b[0m\u001b[0;34m)\u001b[0m \u001b[0;32mand\u001b[0m \u001b[0;32mnot\u001b[0m \u001b[0mself\u001b[0m\u001b[0;34m.\u001b[0m\u001b[0mhasnans\u001b[0m\u001b[0;34m:\u001b[0m\u001b[0;34m\u001b[0m\u001b[0;34m\u001b[0m\u001b[0m\n",
            "\u001b[0;31mKeyError\u001b[0m: 'Years_as_a_Customer'"
          ]
        }
      ],
      "source": [
        "#Summary Stat for Years as a Customer\n",
        "churn['Years_as_a_Customer'].describe()"
      ]
    },
    {
      "cell_type": "code",
      "execution_count": null,
      "metadata": {
        "colab": {
          "base_uri": "https://localhost:8080/"
        },
        "id": "F6vHrC_hZDdW",
        "outputId": "d9bac361-ed28-461d-c78d-d7fc4465b8f5"
      },
      "outputs": [
        {
          "output_type": "execute_result",
          "data": {
            "text/plain": [
              "0             Gen X\n",
              "1             Gen X\n",
              "2        Millennial\n",
              "3            Boomer\n",
              "4            Boomer\n",
              "            ...    \n",
              "57047         Gen Z\n",
              "57048        Boomer\n",
              "57049         Gen Z\n",
              "57050        Silent\n",
              "57051        Boomer\n",
              "Name: Age_demographics, Length: 57052, dtype: object"
            ]
          },
          "metadata": {},
          "execution_count": 13
        }
      ],
      "source": [
        "churn[\"Age_demographics\"].dropna()"
      ]
    },
    {
      "cell_type": "code",
      "execution_count": null,
      "metadata": {
        "colab": {
          "base_uri": "https://localhost:8080/",
          "height": 802
        },
        "id": "468YmqyWcVi1",
        "outputId": "b2b4f163-016e-432a-8aed-839c0617ee22"
      },
      "outputs": [
        {
          "output_type": "error",
          "ename": "KeyError",
          "evalue": "ignored",
          "traceback": [
            "\u001b[0;31m---------------------------------------------------------------------------\u001b[0m",
            "\u001b[0;31mKeyError\u001b[0m                                  Traceback (most recent call last)",
            "\u001b[0;32m/usr/local/lib/python3.8/dist-packages/pandas/core/indexes/base.py\u001b[0m in \u001b[0;36mget_loc\u001b[0;34m(self, key, method, tolerance)\u001b[0m\n\u001b[1;32m   3360\u001b[0m             \u001b[0;32mtry\u001b[0m\u001b[0;34m:\u001b[0m\u001b[0;34m\u001b[0m\u001b[0;34m\u001b[0m\u001b[0m\n\u001b[0;32m-> 3361\u001b[0;31m                 \u001b[0;32mreturn\u001b[0m \u001b[0mself\u001b[0m\u001b[0;34m.\u001b[0m\u001b[0m_engine\u001b[0m\u001b[0;34m.\u001b[0m\u001b[0mget_loc\u001b[0m\u001b[0;34m(\u001b[0m\u001b[0mcasted_key\u001b[0m\u001b[0;34m)\u001b[0m\u001b[0;34m\u001b[0m\u001b[0;34m\u001b[0m\u001b[0m\n\u001b[0m\u001b[1;32m   3362\u001b[0m             \u001b[0;32mexcept\u001b[0m \u001b[0mKeyError\u001b[0m \u001b[0;32mas\u001b[0m \u001b[0merr\u001b[0m\u001b[0;34m:\u001b[0m\u001b[0;34m\u001b[0m\u001b[0;34m\u001b[0m\u001b[0m\n",
            "\u001b[0;32m/usr/local/lib/python3.8/dist-packages/pandas/_libs/index.pyx\u001b[0m in \u001b[0;36mpandas._libs.index.IndexEngine.get_loc\u001b[0;34m()\u001b[0m\n",
            "\u001b[0;32m/usr/local/lib/python3.8/dist-packages/pandas/_libs/index.pyx\u001b[0m in \u001b[0;36mpandas._libs.index.IndexEngine.get_loc\u001b[0;34m()\u001b[0m\n",
            "\u001b[0;32mpandas/_libs/hashtable_class_helper.pxi\u001b[0m in \u001b[0;36mpandas._libs.hashtable.PyObjectHashTable.get_item\u001b[0;34m()\u001b[0m\n",
            "\u001b[0;32mpandas/_libs/hashtable_class_helper.pxi\u001b[0m in \u001b[0;36mpandas._libs.hashtable.PyObjectHashTable.get_item\u001b[0;34m()\u001b[0m\n",
            "\u001b[0;31mKeyError\u001b[0m: 'Years as a Customer'",
            "\nThe above exception was the direct cause of the following exception:\n",
            "\u001b[0;31mKeyError\u001b[0m                                  Traceback (most recent call last)",
            "\u001b[0;32m<ipython-input-14-89f6a1c73d39>\u001b[0m in \u001b[0;36m<module>\u001b[0;34m\u001b[0m\n\u001b[1;32m      2\u001b[0m \u001b[0mfig\u001b[0m \u001b[0;34m=\u001b[0m \u001b[0mplt\u001b[0m\u001b[0;34m.\u001b[0m\u001b[0mfigure\u001b[0m\u001b[0;34m(\u001b[0m\u001b[0;34m)\u001b[0m\u001b[0;34m\u001b[0m\u001b[0;34m\u001b[0m\u001b[0m\n\u001b[1;32m      3\u001b[0m \u001b[0max1\u001b[0m \u001b[0;34m=\u001b[0m \u001b[0mfig\u001b[0m\u001b[0;34m.\u001b[0m\u001b[0madd_axes\u001b[0m\u001b[0;34m(\u001b[0m\u001b[0;34m[\u001b[0m\u001b[0;36m0.1\u001b[0m\u001b[0;34m,\u001b[0m\u001b[0;36m0.1\u001b[0m\u001b[0;34m,\u001b[0m\u001b[0;36m0.8\u001b[0m\u001b[0;34m,\u001b[0m\u001b[0;36m0.8\u001b[0m\u001b[0;34m]\u001b[0m\u001b[0;34m)\u001b[0m\u001b[0;34m\u001b[0m\u001b[0;34m\u001b[0m\u001b[0m\n\u001b[0;32m----> 4\u001b[0;31m \u001b[0mchurn\u001b[0m\u001b[0;34m[\u001b[0m\u001b[0;34m'Years as a Customer'\u001b[0m\u001b[0;34m]\u001b[0m\u001b[0;34m.\u001b[0m\u001b[0mplot\u001b[0m\u001b[0;34m.\u001b[0m\u001b[0mhist\u001b[0m\u001b[0;34m(\u001b[0m\u001b[0mbins\u001b[0m \u001b[0;34m=\u001b[0m \u001b[0;36m35\u001b[0m\u001b[0;34m)\u001b[0m\u001b[0;34m\u001b[0m\u001b[0;34m\u001b[0m\u001b[0m\n\u001b[0m\u001b[1;32m      5\u001b[0m \u001b[0max1\u001b[0m\u001b[0;34m.\u001b[0m\u001b[0mset_xlabel\u001b[0m\u001b[0;34m(\u001b[0m\u001b[0;34m\"# of Customers\"\u001b[0m\u001b[0;34m)\u001b[0m\u001b[0;34m\u001b[0m\u001b[0;34m\u001b[0m\u001b[0m\n\u001b[1;32m      6\u001b[0m \u001b[0max1\u001b[0m\u001b[0;34m.\u001b[0m\u001b[0mset_ylabel\u001b[0m\u001b[0;34m(\u001b[0m\u001b[0;34m\"Years\"\u001b[0m\u001b[0;34m)\u001b[0m\u001b[0;34m\u001b[0m\u001b[0;34m\u001b[0m\u001b[0m\n",
            "\u001b[0;32m/usr/local/lib/python3.8/dist-packages/pandas/core/frame.py\u001b[0m in \u001b[0;36m__getitem__\u001b[0;34m(self, key)\u001b[0m\n\u001b[1;32m   3456\u001b[0m             \u001b[0;32mif\u001b[0m \u001b[0mself\u001b[0m\u001b[0;34m.\u001b[0m\u001b[0mcolumns\u001b[0m\u001b[0;34m.\u001b[0m\u001b[0mnlevels\u001b[0m \u001b[0;34m>\u001b[0m \u001b[0;36m1\u001b[0m\u001b[0;34m:\u001b[0m\u001b[0;34m\u001b[0m\u001b[0;34m\u001b[0m\u001b[0m\n\u001b[1;32m   3457\u001b[0m                 \u001b[0;32mreturn\u001b[0m \u001b[0mself\u001b[0m\u001b[0;34m.\u001b[0m\u001b[0m_getitem_multilevel\u001b[0m\u001b[0;34m(\u001b[0m\u001b[0mkey\u001b[0m\u001b[0;34m)\u001b[0m\u001b[0;34m\u001b[0m\u001b[0;34m\u001b[0m\u001b[0m\n\u001b[0;32m-> 3458\u001b[0;31m             \u001b[0mindexer\u001b[0m \u001b[0;34m=\u001b[0m \u001b[0mself\u001b[0m\u001b[0;34m.\u001b[0m\u001b[0mcolumns\u001b[0m\u001b[0;34m.\u001b[0m\u001b[0mget_loc\u001b[0m\u001b[0;34m(\u001b[0m\u001b[0mkey\u001b[0m\u001b[0;34m)\u001b[0m\u001b[0;34m\u001b[0m\u001b[0;34m\u001b[0m\u001b[0m\n\u001b[0m\u001b[1;32m   3459\u001b[0m             \u001b[0;32mif\u001b[0m \u001b[0mis_integer\u001b[0m\u001b[0;34m(\u001b[0m\u001b[0mindexer\u001b[0m\u001b[0;34m)\u001b[0m\u001b[0;34m:\u001b[0m\u001b[0;34m\u001b[0m\u001b[0;34m\u001b[0m\u001b[0m\n\u001b[1;32m   3460\u001b[0m                 \u001b[0mindexer\u001b[0m \u001b[0;34m=\u001b[0m \u001b[0;34m[\u001b[0m\u001b[0mindexer\u001b[0m\u001b[0;34m]\u001b[0m\u001b[0;34m\u001b[0m\u001b[0;34m\u001b[0m\u001b[0m\n",
            "\u001b[0;32m/usr/local/lib/python3.8/dist-packages/pandas/core/indexes/base.py\u001b[0m in \u001b[0;36mget_loc\u001b[0;34m(self, key, method, tolerance)\u001b[0m\n\u001b[1;32m   3361\u001b[0m                 \u001b[0;32mreturn\u001b[0m \u001b[0mself\u001b[0m\u001b[0;34m.\u001b[0m\u001b[0m_engine\u001b[0m\u001b[0;34m.\u001b[0m\u001b[0mget_loc\u001b[0m\u001b[0;34m(\u001b[0m\u001b[0mcasted_key\u001b[0m\u001b[0;34m)\u001b[0m\u001b[0;34m\u001b[0m\u001b[0;34m\u001b[0m\u001b[0m\n\u001b[1;32m   3362\u001b[0m             \u001b[0;32mexcept\u001b[0m \u001b[0mKeyError\u001b[0m \u001b[0;32mas\u001b[0m \u001b[0merr\u001b[0m\u001b[0;34m:\u001b[0m\u001b[0;34m\u001b[0m\u001b[0;34m\u001b[0m\u001b[0m\n\u001b[0;32m-> 3363\u001b[0;31m                 \u001b[0;32mraise\u001b[0m \u001b[0mKeyError\u001b[0m\u001b[0;34m(\u001b[0m\u001b[0mkey\u001b[0m\u001b[0;34m)\u001b[0m \u001b[0;32mfrom\u001b[0m \u001b[0merr\u001b[0m\u001b[0;34m\u001b[0m\u001b[0;34m\u001b[0m\u001b[0m\n\u001b[0m\u001b[1;32m   3364\u001b[0m \u001b[0;34m\u001b[0m\u001b[0m\n\u001b[1;32m   3365\u001b[0m         \u001b[0;32mif\u001b[0m \u001b[0mis_scalar\u001b[0m\u001b[0;34m(\u001b[0m\u001b[0mkey\u001b[0m\u001b[0;34m)\u001b[0m \u001b[0;32mand\u001b[0m \u001b[0misna\u001b[0m\u001b[0;34m(\u001b[0m\u001b[0mkey\u001b[0m\u001b[0;34m)\u001b[0m \u001b[0;32mand\u001b[0m \u001b[0;32mnot\u001b[0m \u001b[0mself\u001b[0m\u001b[0;34m.\u001b[0m\u001b[0mhasnans\u001b[0m\u001b[0;34m:\u001b[0m\u001b[0;34m\u001b[0m\u001b[0;34m\u001b[0m\u001b[0m\n",
            "\u001b[0;31mKeyError\u001b[0m: 'Years as a Customer'"
          ]
        },
        {
          "output_type": "display_data",
          "data": {
            "text/plain": [
              "<Figure size 432x288 with 1 Axes>"
            ],
            "image/png": "[encoded data removed]"
          },
          "metadata": {
            "needs_background": "light"
          }
        }
      ],
      "source": [
        "#Histogram for Overall Years as a Customer\n",
        "fig = plt.figure()\n",
        "ax1 = fig.add_axes([0.1,0.1,0.8,0.8])\n",
        "churn['Years as a Customer'].plot.hist(bins = 35)\n",
        "ax1.set_xlabel(\"# of Customers\")\n",
        "ax1.set_ylabel(\"Years\")\n",
        "ax1.set_title(\"Years as a Customer\")\n",
        "plt.show()"
      ]
    },
    {
      "cell_type": "code",
      "execution_count": null,
      "metadata": {
        "colab": {
          "base_uri": "https://localhost:8080/"
        },
        "id": "FmUY4dq6V1go",
        "outputId": "375947f0-0ff4-4688-d8bb-4c53758340be"
      },
      "outputs": [
        {
          "data": {
            "text/plain": [
              "count    8585.000000\n",
              "mean        7.511854\n",
              "std         6.046746\n",
              "min         0.000000\n",
              "25%         2.830000\n",
              "50%         5.920000\n",
              "75%        11.000000\n",
              "max        37.920000\n",
              "Name: Years as a Customer, dtype: float64"
            ]
          },
          "execution_count": 30,
          "metadata": {},
          "output_type": "execute_result"
        }
      ],
      "source": [
        "#Years as a Customer for Millennials\n",
        "millennial_years = churn.loc[churn['Age_demographics'] == \"Millennial\", 'Years as a Customer']\n",
        "millennial_years.describe()"
      ]
    },
    {
      "cell_type": "code",
      "execution_count": null,
      "metadata": {
        "colab": {
          "base_uri": "https://localhost:8080/",
          "height": 308
        },
        "id": "ju5wkPKCa7KY",
        "outputId": "8c1c2510-4964-4a91-ce30-4ff370eb8b77"
      },
      "outputs": [
        {
          "data": {
            "image/png": "[encoded data removed]",
            "text/plain": [
              "<Figure size 432x288 with 1 Axes>"
            ]
          },
          "metadata": {},
          "output_type": "display_data"
        }
      ],
      "source": [
        "#Histogram for Millennial Years as a Customer\n",
        "fig = plt.figure()\n",
        "ax1 = fig.add_axes([0.1,0.1,0.8,0.8])\n",
        "millennial_years.plot.hist(bins = 35)\n",
        "ax1.set_xlabel(\"# of Customers\")\n",
        "ax1.set_ylabel(\"Years\")\n",
        "ax1.set_title(\"Millennial Years as a Customer\")\n",
        "plt.show()"
      ]
    },
    {
      "cell_type": "code",
      "execution_count": null,
      "metadata": {
        "colab": {
          "base_uri": "https://localhost:8080/"
        },
        "id": "ld0xDQVzZctE",
        "outputId": "cd938e19-5d86-4ffd-a376-02d045055217"
      },
      "outputs": [
        {
          "data": {
            "text/plain": [
              "count    4189.000000\n",
              "mean        4.437825\n",
              "std         4.517203\n",
              "min         0.000000\n",
              "25%         1.170000\n",
              "50%         2.920000\n",
              "75%         6.080000\n",
              "max        21.580000\n",
              "Name: Years as a Customer, dtype: float64"
            ]
          },
          "execution_count": 33,
          "metadata": {},
          "output_type": "execute_result"
        }
      ],
      "source": [
        "#Years as a Customer for Gen Z\n",
        "genz_years = churn.loc[churn['Age_demographics'] == \"Gen Z\", 'Years as a Customer']\n",
        "genz_years.describe()"
      ]
    },
    {
      "cell_type": "code",
      "execution_count": null,
      "metadata": {
        "colab": {
          "base_uri": "https://localhost:8080/",
          "height": 308
        },
        "id": "bO29YmJMbSFf",
        "outputId": "a6e41b5f-0fd5-4ca1-c28c-32ca479a9450"
      },
      "outputs": [
        {
          "data": {
            "image/png": "[encoded data removed]",
            "text/plain": [
              "<Figure size 432x288 with 1 Axes>"
            ]
          },
          "metadata": {},
          "output_type": "display_data"
        }
      ],
      "source": [
        "#Histogram for Gen Z Years as a Customer\n",
        "fig = plt.figure()\n",
        "ax1 = fig.add_axes([0.1,0.1,0.8,0.8])\n",
        "genz_years.plot.hist(bins = 20)\n",
        "ax1.set_xlabel(\"# of Customers\")\n",
        "ax1.set_ylabel(\"Years\")\n",
        "ax1.set_title(\"Gen Z Years as a Customer\")\n",
        "plt.show()"
      ]
    },
    {
      "cell_type": "code",
      "execution_count": null,
      "metadata": {
        "colab": {
          "base_uri": "https://localhost:8080/"
        },
        "id": "BWJhpd7QePdG",
        "outputId": "add8cf1f-ccc7-4a13-db2d-5e69974c4db1"
      },
      "outputs": [
        {
          "data": {
            "text/plain": [
              "0.0    0.987638\n",
              "1.0    0.012362\n",
              "Name: Credit_Card_Flag, dtype: float64"
            ]
          },
          "execution_count": 53,
          "metadata": {},
          "output_type": "execute_result"
        }
      ],
      "source": [
        "#Credit Cards Overall\n",
        "creditflag = churn['Credit_Card_Flag']\n",
        "creditflag.value_counts(normalize=True)"
      ]
    },
    {
      "cell_type": "code",
      "execution_count": null,
      "metadata": {
        "colab": {
          "base_uri": "https://localhost:8080/"
        },
        "id": "6am5QQ3lcyg4",
        "outputId": "22d09af5-04c3-49c8-a0d9-9fafe13c9434"
      },
      "outputs": [
        {
          "data": {
            "text/plain": [
              "0.0    0.994987\n",
              "1.0    0.005013\n",
              "Name: Credit_Card_Flag, dtype: float64"
            ]
          },
          "execution_count": 52,
          "metadata": {},
          "output_type": "execute_result"
        }
      ],
      "source": [
        "#Credit Cards for Gen Z\n",
        "genz_creditflag = churn.loc[churn['Age_demographics'] == \"Gen Z\", 'Credit_Card_Flag']\n",
        "genz_creditflag.value_counts(normalize=True)"
      ]
    },
    {
      "cell_type": "code",
      "execution_count": null,
      "metadata": {
        "colab": {
          "base_uri": "https://localhost:8080/"
        },
        "id": "CuXogEDQeMXP",
        "outputId": "7e2f020b-da2b-4929-fc8e-f58552944bbb"
      },
      "outputs": [
        {
          "data": {
            "text/plain": [
              "0.0    0.988934\n",
              "1.0    0.011066\n",
              "Name: Credit_Card_Flag, dtype: float64"
            ]
          },
          "execution_count": 55,
          "metadata": {},
          "output_type": "execute_result"
        }
      ],
      "source": [
        "#Credit Cards for Millennials\n",
        "millennial_creditflag = churn.loc[churn['Age_demographics'] == \"Millennial\", 'Credit_Card_Flag']\n",
        "millennial_creditflag.value_counts(normalize=True)"
      ]
    },
    {
      "cell_type": "code",
      "execution_count": null,
      "metadata": {
        "colab": {
          "base_uri": "https://localhost:8080/"
        },
        "id": "KCm8xJAWe7hT",
        "outputId": "fe03c722-bddc-48f0-dd81-65f95c290fc6"
      },
      "outputs": [
        {
          "output_type": "stream",
          "name": "stdout",
          "text": [
            "count    43278.000000\n",
            "mean        31.038773\n",
            "std        217.756444\n",
            "min          0.000000\n",
            "25%          0.000000\n",
            "50%          0.000000\n",
            "75%          0.000000\n",
            "max      16672.000000\n",
            "Name: Overdraft_fees_YTD, dtype: float64\n",
            "count    4189.000000\n",
            "mean        6.569587\n",
            "std        62.612354\n",
            "min         0.000000\n",
            "25%         0.000000\n",
            "50%         0.000000\n",
            "75%         0.000000\n",
            "max      2208.000000\n",
            "Name: Overdraft_fees_YTD, dtype: float64\n",
            "count    8585.000000\n",
            "mean       35.306232\n",
            "std       187.627552\n",
            "min         0.000000\n",
            "25%         0.000000\n",
            "50%         0.000000\n",
            "75%         0.000000\n",
            "max      5824.000000\n",
            "Name: Overdraft_fees_YTD, dtype: float64\n"
          ]
        }
      ],
      "source": [
        "#Overdraft Fees YTD Overall\n",
        "overdraft_fees = churn['Overdraft_fees_YTD']\n",
        "print(overdraft_fees.describe())\n",
        "\n",
        "#Overdraft Fees YTD Gen Z\n",
        "overdraft_fees_genz = churn.loc[churn['Age_demographics'] == \"Gen Z\", 'Overdraft_fees_YTD']\n",
        "print(overdraft_fees_genz.describe())\n",
        "\n",
        "#Overdraft Fees YTD Millennial\n",
        "overdraft_fees_millennial = churn.loc[(churn['Age_demographics'] == \"Millennial\"), 'Overdraft_fees_YTD']\n",
        "print(overdraft_fees_millennial.describe())"
      ]
    },
    {
      "cell_type": "code",
      "execution_count": null,
      "metadata": {
        "colab": {
          "base_uri": "https://localhost:8080/",
          "height": 558
        },
        "id": "Ft9tAtydfqXN",
        "outputId": "149eb6f5-dd4c-432e-b152-7eb1f1e09988"
      },
      "outputs": [
        {
          "name": "stderr",
          "output_type": "stream",
          "text": [
            "/usr/local/lib/python3.8/dist-packages/statsmodels/tsa/tsatools.py:142: FutureWarning: In a future version of pandas all arguments of concat except for the argument 'objs' will be keyword-only\n",
            "  x = pd.concat(x[::order], 1)\n"
          ]
        },
        {
          "data": {
            "image/png": "[encoded data removed]",
            "text/plain": [
              "<Figure size 432x288 with 1 Axes>"
            ]
          },
          "metadata": {},
          "output_type": "display_data"
        },
        {
          "data": {
            "text/plain": [
              "0.0        0.878784\n",
              "32.0       0.039004\n",
              "64.0       0.017607\n",
              "96.0       0.011391\n",
              "128.0      0.007856\n",
              "             ...   \n",
              "4000.0     0.000023\n",
              "5824.0     0.000023\n",
              "16672.0    0.000023\n",
              "8064.0     0.000023\n",
              "5728.0     0.000023\n",
              "Name: Overdraft_fees_YTD, Length: 112, dtype: float64"
            ]
          },
          "execution_count": 77,
          "metadata": {},
          "output_type": "execute_result"
        }
      ],
      "source": [
        "##OVERDRAFT FEES\n",
        "# split dependent and independent variable\n",
        "X = churn['Overdraft_fees_YTD'].dropna()\n",
        "y = churn['Churned'].dropna()\n",
        "\n",
        "# Add a constant to the independent value\n",
        "X1 = sm.add_constant(X)\n",
        "\n",
        "# make regression model\n",
        "model = sm.OLS(y, X1).fit()\n",
        "predictions = model.predict(X1)\n",
        "\n",
        "# fit model and print results\n",
        "model.summary()\n",
        "\n",
        "#Scatterplot for Overall Overdraft Fees\n",
        "plt.scatter(X, y, color='gray')\n",
        "plt.plot(X, predictions, color='red', linewidth=2)\n",
        "\n",
        "plt.title(\"Scatter Plot\")\n",
        "plt.xlabel(\"Overdraft Fees\")\n",
        "plt.ylabel(\"Churn\")\n",
        "\n",
        "plt.show()\n",
        "\n",
        "#Overdraft Overall\n",
        "overdraft_fees.value_counts(normalize=True)"
      ]
    },
    {
      "cell_type": "code",
      "execution_count": null,
      "metadata": {
        "colab": {
          "base_uri": "https://localhost:8080/",
          "height": 350
        },
        "id": "JKeIyTzRjSgi",
        "outputId": "6f8042d0-6eaa-4883-ce49-c329abef54f4"
      },
      "outputs": [
        {
          "name": "stderr",
          "output_type": "stream",
          "text": [
            "/usr/local/lib/python3.8/dist-packages/statsmodels/tsa/tsatools.py:142: FutureWarning: In a future version of pandas all arguments of concat except for the argument 'objs' will be keyword-only\n",
            "  x = pd.concat(x[::order], 1)\n"
          ]
        },
        {
          "data": {
            "image/png": "[encoded data removed]",
            "text/plain": [
              "<Figure size 432x288 with 1 Axes>"
            ]
          },
          "metadata": {},
          "output_type": "display_data"
        }
      ],
      "source": [
        "##RETURN FEES YTD\n",
        "# split dependent and independent variable\n",
        "X = churn['Return_fees_YTD'].dropna()\n",
        "y = churn['Churned'].dropna()\n",
        "\n",
        "# Add a constant to the independent value\n",
        "X1 = sm.add_constant(X)\n",
        "\n",
        "# make regression model\n",
        "model = sm.OLS(y, X1).fit()\n",
        "predictions = model.predict(X1)\n",
        "\n",
        "# fit model and print results\n",
        "model.summary()\n",
        "\n",
        "#Scatterplot for Overall Overdraft Fees\n",
        "plt.scatter(X, y, color='gray')\n",
        "plt.plot(X, predictions, color='red', linewidth=2)\n",
        "\n",
        "plt.title(\"Scatter Plot\")\n",
        "plt.xlabel(\"Return Fees\")\n",
        "plt.ylabel(\"Churn\")\n",
        "\n",
        "plt.show()"
      ]
    },
    {
      "cell_type": "code",
      "execution_count": null,
      "metadata": {
        "colab": {
          "base_uri": "https://localhost:8080/",
          "height": 350
        },
        "id": "gyqkOivOjnS_",
        "outputId": "c36ec977-3808-499b-b6c9-8389673413fa"
      },
      "outputs": [
        {
          "output_type": "stream",
          "name": "stderr",
          "text": [
            "/usr/local/lib/python3.8/dist-packages/statsmodels/tsa/tsatools.py:142: FutureWarning: In a future version of pandas all arguments of concat except for the argument 'objs' will be keyword-only\n",
            "  x = pd.concat(x[::order], 1)\n"
          ]
        },
        {
          "output_type": "display_data",
          "data": {
            "text/plain": [
              "<Figure size 432x288 with 1 Axes>"
            ],
            "image/png": "[encoded data removed]"
          },
          "metadata": {
            "needs_background": "light"
          }
        }
      ],
      "source": [
        "##SERVICE CHARGES\n",
        "# split dependent and independent variable\n",
        "X = churn['Service_Charges'].dropna()\n",
        "y = churn['Churned'].dropna()\n",
        "\n",
        "# Add a constant to the independent value\n",
        "X1 = sm.add_constant(X)\n",
        "\n",
        "# make regression model\n",
        "model = sm.OLS(y, X1).fit()\n",
        "predictions = model.predict(X1)\n",
        "\n",
        "# fit model and print results\n",
        "model.summary()\n",
        "\n",
        "#Scatterplot for Overall Overdraft Fees\n",
        "plt.scatter(X, y, color='gray')\n",
        "#plt.plot(X, predictions, color='red', linewidth=2)\n",
        "\n",
        "plt.title(\"Scatter Plot\")\n",
        "plt.xlabel(\"Service Charges\")\n",
        "plt.ylabel(\"Churn\")\n",
        "\n",
        "plt.show()"
      ]
    },
    {
      "cell_type": "code",
      "execution_count": null,
      "metadata": {
        "colab": {
          "base_uri": "https://localhost:8080/"
        },
        "id": "Z8U6V_Iupsn0",
        "outputId": "5b4124af-f58d-4f78-bbd0-2f9259653585"
      },
      "outputs": [
        {
          "name": "stderr",
          "output_type": "stream",
          "text": [
            "/usr/local/lib/python3.8/dist-packages/sklearn/utils/validation.py:993: DataConversionWarning: A column-vector y was passed when a 1d array was expected. Please change the shape of y to (n_samples, ), for example using ravel().\n",
            "  y = column_or_1d(y, warn=True)\n"
          ]
        },
        {
          "name": "stdout",
          "output_type": "stream",
          "text": [
            "[[-4.28393854e-07]]\n",
            "[-3.5614573]\n"
          ]
        }
      ],
      "source": [
        "fees = pd.DataFrame()\n",
        "fees['Overdraft'] = churn['Overdraft_fees_YTD'].dropna()\n",
        "fees['Return'] = churn['Return_fees_YTD'].dropna()\n",
        "fees['Service Charges'] = churn['Service_Charges'].dropna()\n",
        "fees['WM Value'] = churn['WM_Market_Value']\n",
        "fees['Churn'] = churn['Churned'].dropna()\n",
        "fees.head(50)\n",
        "\n",
        "X = fees['WM Value'].values.reshape(-1,1)\n",
        "y = fees['Churn'].values.reshape(-1,1)\n",
        "\n",
        "lr = LogisticRegression()\n",
        "lr.fit(X,y)\n",
        "\n",
        "print(lr.coef_)\n",
        "print(lr.intercept_)"
      ]
    },
    {
      "cell_type": "code",
      "execution_count": null,
      "metadata": {
        "colab": {
          "base_uri": "https://localhost:8080/"
        },
        "id": "zth7u6pXur65",
        "outputId": "c28ec751-6e36-413a-e9d3-5ec25cdd8b8a"
      },
      "outputs": [
        {
          "name": "stdout",
          "output_type": "stream",
          "text": [
            "[[0.37314985]]\n",
            "[-3.70019135]\n"
          ]
        },
        {
          "name": "stderr",
          "output_type": "stream",
          "text": [
            "/usr/local/lib/python3.8/dist-packages/sklearn/utils/validation.py:993: DataConversionWarning: A column-vector y was passed when a 1d array was expected. Please change the shape of y to (n_samples, ), for example using ravel().\n",
            "  y = column_or_1d(y, warn=True)\n"
          ]
        }
      ],
      "source": [
        "##OVERALL MOBILE AND TABLET APP + CHURN\n",
        "app_use = pd.DataFrame()\n",
        "app_use['Mobile Active'] = churn['App_90_Day_Active'].dropna()\n",
        "app_use['Tablet Active'] = churn['Tablet_90_Day_Active'].dropna()\n",
        "app_use['Churn'] = churn['Churned'].dropna()\n",
        "app_use.head(50)\n",
        "\n",
        "X = app_use['Mobile Active'].values.reshape(-1,1)\n",
        "y = app_use['Churn'].values.reshape(-1,1)\n",
        "\n",
        "lr = LogisticRegression()\n",
        "lr.fit(X,y)\n",
        "\n",
        "print(lr.coef_)\n",
        "print(lr.intercept_)"
      ]
    },
    {
      "cell_type": "code",
      "execution_count": null,
      "metadata": {
        "colab": {
          "base_uri": "https://localhost:8080/",
          "height": 235
        },
        "id": "lvRITk34xbFB",
        "outputId": "f9e2c5d9-463c-44ed-e0d4-2ce95202df4c"
      },
      "outputs": [
        {
          "output_type": "error",
          "ename": "NameError",
          "evalue": "ignored",
          "traceback": [
            "\u001b[0;31m---------------------------------------------------------------------------\u001b[0m",
            "\u001b[0;31mNameError\u001b[0m                                 Traceback (most recent call last)",
            "\u001b[0;32m<ipython-input-17-e3243f8bd93c>\u001b[0m in \u001b[0;36m<module>\u001b[0;34m\u001b[0m\n\u001b[0;32m----> 1\u001b[0;31m \u001b[0mX\u001b[0m \u001b[0;34m=\u001b[0m \u001b[0mapp_use\u001b[0m\u001b[0;34m[\u001b[0m\u001b[0;34m'Tablet Active'\u001b[0m\u001b[0;34m]\u001b[0m\u001b[0;34m.\u001b[0m\u001b[0mvalues\u001b[0m\u001b[0;34m.\u001b[0m\u001b[0mreshape\u001b[0m\u001b[0;34m(\u001b[0m\u001b[0;34m-\u001b[0m\u001b[0;36m1\u001b[0m\u001b[0;34m,\u001b[0m\u001b[0;36m1\u001b[0m\u001b[0;34m)\u001b[0m\u001b[0;34m\u001b[0m\u001b[0;34m\u001b[0m\u001b[0m\n\u001b[0m\u001b[1;32m      2\u001b[0m \u001b[0my\u001b[0m \u001b[0;34m=\u001b[0m \u001b[0mapp_use\u001b[0m\u001b[0;34m[\u001b[0m\u001b[0;34m'Churn'\u001b[0m\u001b[0;34m]\u001b[0m\u001b[0;34m.\u001b[0m\u001b[0mvalues\u001b[0m\u001b[0;34m.\u001b[0m\u001b[0mreshape\u001b[0m\u001b[0;34m(\u001b[0m\u001b[0;34m-\u001b[0m\u001b[0;36m1\u001b[0m\u001b[0;34m,\u001b[0m\u001b[0;36m1\u001b[0m\u001b[0;34m)\u001b[0m\u001b[0;34m\u001b[0m\u001b[0;34m\u001b[0m\u001b[0m\n\u001b[1;32m      3\u001b[0m \u001b[0;34m\u001b[0m\u001b[0m\n\u001b[1;32m      4\u001b[0m \u001b[0mlr\u001b[0m \u001b[0;34m=\u001b[0m \u001b[0mLogisticRegression\u001b[0m\u001b[0;34m(\u001b[0m\u001b[0;34m)\u001b[0m\u001b[0;34m\u001b[0m\u001b[0;34m\u001b[0m\u001b[0m\n\u001b[1;32m      5\u001b[0m \u001b[0mlr\u001b[0m\u001b[0;34m.\u001b[0m\u001b[0mfit\u001b[0m\u001b[0;34m(\u001b[0m\u001b[0mX\u001b[0m\u001b[0;34m,\u001b[0m\u001b[0my\u001b[0m\u001b[0;34m)\u001b[0m\u001b[0;34m\u001b[0m\u001b[0;34m\u001b[0m\u001b[0m\n",
            "\u001b[0;31mNameError\u001b[0m: name 'app_use' is not defined"
          ]
        }
      ],
      "source": [
        "X = app_use['Tablet Active'].values.reshape(-1,1)\n",
        "y = app_use['Churn'].values.reshape(-1,1)\n",
        "\n",
        "lr = LogisticRegression()\n",
        "lr.fit(X,y)\n",
        "\n",
        "print(lr.coef_)\n",
        "print(lr.intercept_)"
      ]
    },
    {
      "cell_type": "code",
      "execution_count": null,
      "metadata": {
        "colab": {
          "base_uri": "https://localhost:8080/"
        },
        "id": "Hfsv0Lv5yhsf",
        "outputId": "c025246b-5c75-4c05-c6c6-611bb23b5f9c"
      },
      "outputs": [
        {
          "name": "stdout",
          "output_type": "stream",
          "text": [
            "[[0.15474647]]\n",
            "[-3.22460661]\n"
          ]
        },
        {
          "name": "stderr",
          "output_type": "stream",
          "text": [
            "/usr/local/lib/python3.8/dist-packages/sklearn/utils/validation.py:993: DataConversionWarning: A column-vector y was passed when a 1d array was expected. Please change the shape of y to (n_samples, ), for example using ravel().\n",
            "  y = column_or_1d(y, warn=True)\n"
          ]
        },
        {
          "data": {
            "text/plain": [
              "1.0    0.640186\n",
              "0.0    0.359814\n",
              "Name: Mobile Active, dtype: float64"
            ]
          },
          "execution_count": 127,
          "metadata": {},
          "output_type": "execute_result"
        }
      ],
      "source": [
        "##MILLENNIALS TABLET & APP USE + CHURN\n",
        "#App Use for Millennials\n",
        "millennial_app_use = pd.DataFrame()\n",
        "millennial_app_use['Mobile Active'] = churn.loc[churn['Age_demographics'] == \"Millennial\", 'App_90_Day_Active'].dropna()\n",
        "millennial_app_use['Tablet Active'] = churn.loc[churn['Age_demographics'] == \"Millennial\", 'Tablet_90_Day_Active'].dropna()\n",
        "millennial_app_use['Churn'] = churn['Churned'].dropna()\n",
        "\n",
        "#Mobile Use for Millennials\n",
        "X = millennial_app_use['Mobile Active'].values.reshape(-1,1)\n",
        "y = millennial_app_use['Churn'].values.reshape(-1,1)\n",
        "\n",
        "lr = LogisticRegression()\n",
        "lr.fit(X,y)\n",
        "\n",
        "print(lr.coef_)\n",
        "print(lr.intercept_)\n",
        "\n",
        "#Mobile Use Percentages\n",
        "millennial_app_use['Mobile Active'].value_counts(normalize=True)"
      ]
    },
    {
      "cell_type": "code",
      "execution_count": null,
      "metadata": {
        "colab": {
          "base_uri": "https://localhost:8080/"
        },
        "id": "Y8yUPzSQ0FG1",
        "outputId": "880c2c8a-03bc-4e4f-e0d8-73350748ab07"
      },
      "outputs": [
        {
          "name": "stdout",
          "output_type": "stream",
          "text": [
            "[[0.31425672]]\n",
            "[-3.12579555]\n"
          ]
        },
        {
          "name": "stderr",
          "output_type": "stream",
          "text": [
            "/usr/local/lib/python3.8/dist-packages/sklearn/utils/validation.py:993: DataConversionWarning: A column-vector y was passed when a 1d array was expected. Please change the shape of y to (n_samples, ), for example using ravel().\n",
            "  y = column_or_1d(y, warn=True)\n"
          ]
        },
        {
          "data": {
            "text/plain": [
              "0.0    0.992429\n",
              "1.0    0.007571\n",
              "Name: Tablet Active, dtype: float64"
            ]
          },
          "execution_count": 126,
          "metadata": {},
          "output_type": "execute_result"
        }
      ],
      "source": [
        "#Tablet Use for Millenials\n",
        "X = millennial_app_use['Tablet Active'].values.reshape(-1,1)\n",
        "y = millennial_app_use['Churn'].values.reshape(-1,1)\n",
        "\n",
        "lr = LogisticRegression()\n",
        "lr.fit(X,y)\n",
        "\n",
        "print(lr.coef_)\n",
        "print(lr.intercept_)\n",
        "\n",
        "#Tablet Use Percentages\n",
        "millennial_app_use['Tablet Active'].value_counts(normalize=True)"
      ]
    },
    {
      "cell_type": "code",
      "execution_count": null,
      "metadata": {
        "colab": {
          "base_uri": "https://localhost:8080/"
        },
        "id": "6V4A0ZYi0duJ",
        "outputId": "3c06bcf5-be39-4c7b-e45b-838dd2b93f09"
      },
      "outputs": [
        {
          "name": "stdout",
          "output_type": "stream",
          "text": [
            "[[0.62346742]]\n",
            "[-3.64569529]\n"
          ]
        },
        {
          "name": "stderr",
          "output_type": "stream",
          "text": [
            "/usr/local/lib/python3.8/dist-packages/sklearn/utils/validation.py:993: DataConversionWarning: A column-vector y was passed when a 1d array was expected. Please change the shape of y to (n_samples, ), for example using ravel().\n",
            "  y = column_or_1d(y, warn=True)\n"
          ]
        },
        {
          "data": {
            "text/plain": [
              "0.0    0.59704\n",
              "1.0    0.40296\n",
              "Name: Mobile Active, dtype: float64"
            ]
          },
          "execution_count": 124,
          "metadata": {},
          "output_type": "execute_result"
        }
      ],
      "source": [
        "##GEN Z TABLET & APP USE + CHURN\n",
        "#App Use for Gen Z\n",
        "genz_app_use = pd.DataFrame()\n",
        "genz_app_use['Mobile Active'] = churn.loc[churn['Age_demographics'] == \"Gen Z\", 'App_90_Day_Active'].dropna()\n",
        "genz_app_use['Tablet Active'] = churn.loc[churn['Age_demographics'] == \"Gen Z\", 'Tablet_90_Day_Active'].dropna()\n",
        "genz_app_use['Churn'] = churn['Churned'].dropna()\n",
        "\n",
        "#Mobile Use for Gen z\n",
        "X = genz_app_use['Mobile Active'].values.reshape(-1,1)\n",
        "y = genz_app_use['Churn'].values.reshape(-1,1)\n",
        "\n",
        "lr = LogisticRegression()\n",
        "lr.fit(X,y)\n",
        "\n",
        "print(lr.coef_)\n",
        "print(lr.intercept_)\n",
        "\n",
        "#Mobile Use Percentages\n",
        "genz_app_use['Mobile Active'].value_counts(normalize=True)"
      ]
    },
    {
      "cell_type": "code",
      "execution_count": null,
      "metadata": {
        "colab": {
          "base_uri": "https://localhost:8080/"
        },
        "id": "Z6X2NpS10ohM",
        "outputId": "5605f95c-d783-4daf-9fd1-ca5d91c27176"
      },
      "outputs": [
        {
          "name": "stdout",
          "output_type": "stream",
          "text": [
            "[[-0.12069446]]\n",
            "[-3.34979531]\n"
          ]
        },
        {
          "name": "stderr",
          "output_type": "stream",
          "text": [
            "/usr/local/lib/python3.8/dist-packages/sklearn/utils/validation.py:993: DataConversionWarning: A column-vector y was passed when a 1d array was expected. Please change the shape of y to (n_samples, ), for example using ravel().\n",
            "  y = column_or_1d(y, warn=True)\n"
          ]
        },
        {
          "data": {
            "text/plain": [
              "0.0    0.999045\n",
              "1.0    0.000955\n",
              "Name: Tablet Active, dtype: float64"
            ]
          },
          "execution_count": 123,
          "metadata": {},
          "output_type": "execute_result"
        }
      ],
      "source": [
        "#Tablet Use for Gen Z\n",
        "X = genz_app_use['Tablet Active'].values.reshape(-1,1)\n",
        "y = genz_app_use['Churn'].values.reshape(-1,1)\n",
        "\n",
        "lr = LogisticRegression()\n",
        "lr.fit(X,y)\n",
        "\n",
        "print(lr.coef_)\n",
        "print(lr.intercept_)\n",
        "\n",
        "#Tablet Use Percentages\n",
        "genz_app_use['Tablet Active'].value_counts(normalize=True)"
      ]
    },
    {
      "cell_type": "code",
      "execution_count": null,
      "metadata": {
        "colab": {
          "base_uri": "https://localhost:8080/"
        },
        "id": "Ul-vrKia7oi0",
        "outputId": "a40ce0d8-c403-4218-c37c-95c96be66fe1"
      },
      "outputs": [
        {
          "name": "stdout",
          "output_type": "stream",
          "text": [
            "[[-0.27572911]]\n",
            "[-3.53804487]\n"
          ]
        },
        {
          "name": "stderr",
          "output_type": "stream",
          "text": [
            "/usr/local/lib/python3.8/dist-packages/sklearn/utils/validation.py:993: DataConversionWarning: A column-vector y was passed when a 1d array was expected. Please change the shape of y to (n_samples, ), for example using ravel().\n",
            "  y = column_or_1d(y, warn=True)\n"
          ]
        },
        {
          "data": {
            "text/plain": [
              "0.0     0.918619\n",
              "1.0     0.065599\n",
              "2.0     0.010167\n",
              "3.0     0.003096\n",
              "4.0     0.000970\n",
              "5.0     0.000601\n",
              "6.0     0.000277\n",
              "7.0     0.000116\n",
              "8.0     0.000092\n",
              "10.0    0.000092\n",
              "9.0     0.000069\n",
              "11.0    0.000046\n",
              "13.0    0.000046\n",
              "15.0    0.000046\n",
              "12.0    0.000046\n",
              "80.0    0.000023\n",
              "17.0    0.000023\n",
              "29.0    0.000023\n",
              "14.0    0.000023\n",
              "18.0    0.000023\n",
              "Name: Loans, dtype: float64"
            ]
          },
          "execution_count": 130,
          "metadata": {},
          "output_type": "execute_result"
        }
      ],
      "source": [
        "##OVERALL # OF LOANS WITH QNBT\n",
        "loans = pd.DataFrame()\n",
        "loans['Loans'] = churn['#_Loan_Cust'].dropna()\n",
        "loans['Churn'] = churn['Churned'].dropna()\n",
        "\n",
        "#Mobile Use Overall\n",
        "X = loans['Loans'].values.reshape(-1,1)\n",
        "y = loans['Churn'].values.reshape(-1,1)\n",
        "\n",
        "lr = LogisticRegression()\n",
        "lr.fit(X,y)\n",
        "\n",
        "print(lr.coef_)\n",
        "print(lr.intercept_)\n",
        "\n",
        "#Loans Percentages\n",
        "loans['Loans'].value_counts(normalize=True)"
      ]
    },
    {
      "cell_type": "code",
      "execution_count": null,
      "metadata": {
        "colab": {
          "base_uri": "https://localhost:8080/"
        },
        "id": "c6l-GsCW63Qx",
        "outputId": "c1098568-f703-4249-b9a2-201baf4a5be5"
      },
      "outputs": [
        {
          "name": "stdout",
          "output_type": "stream",
          "text": [
            "[[-0.67887041]]\n",
            "[-3.34484979]\n"
          ]
        },
        {
          "name": "stderr",
          "output_type": "stream",
          "text": [
            "/usr/local/lib/python3.8/dist-packages/sklearn/utils/validation.py:993: DataConversionWarning: A column-vector y was passed when a 1d array was expected. Please change the shape of y to (n_samples, ), for example using ravel().\n",
            "  y = column_or_1d(y, warn=True)\n"
          ]
        },
        {
          "data": {
            "text/plain": [
              "0.0    0.990690\n",
              "1.0    0.008116\n",
              "2.0    0.000716\n",
              "3.0    0.000477\n",
              "Name: Loans, dtype: float64"
            ]
          },
          "execution_count": 128,
          "metadata": {},
          "output_type": "execute_result"
        }
      ],
      "source": [
        "##GEN Z # OF LOANS WITH QNBT\n",
        "genz_loans = pd.DataFrame()\n",
        "genz_loans['Loans'] = churn.loc[churn['Age_demographics'] == \"Gen Z\", '#_Loan_Cust'].dropna()\n",
        "genz_loans['Churn'] = churn['Churned'].dropna()\n",
        "\n",
        "X = genz_loans['Loans'].values.reshape(-1,1)\n",
        "y = genz_loans['Churn'].values.reshape(-1,1)\n",
        "\n",
        "lr = LogisticRegression()\n",
        "lr.fit(X,y)\n",
        "\n",
        "print(lr.coef_)\n",
        "print(lr.intercept_)\n",
        "\n",
        "#Loans Percentages\n",
        "genz_loans['Loans'].value_counts(normalize=True)"
      ]
    },
    {
      "cell_type": "code",
      "execution_count": null,
      "metadata": {
        "colab": {
          "base_uri": "https://localhost:8080/"
        },
        "id": "UuiesFTe79iT",
        "outputId": "5c68322a-aa22-4467-9281-1f3c7c1a0c8a"
      },
      "outputs": [
        {
          "name": "stdout",
          "output_type": "stream",
          "text": [
            "[[-0.28886481]]\n",
            "[-3.10527404]\n"
          ]
        },
        {
          "name": "stderr",
          "output_type": "stream",
          "text": [
            "/usr/local/lib/python3.8/dist-packages/sklearn/utils/validation.py:993: DataConversionWarning: A column-vector y was passed when a 1d array was expected. Please change the shape of y to (n_samples, ), for example using ravel().\n",
            "  y = column_or_1d(y, warn=True)\n"
          ]
        },
        {
          "data": {
            "text/plain": [
              "0.0    0.939080\n",
              "1.0    0.052650\n",
              "2.0    0.005591\n",
              "3.0    0.001514\n",
              "4.0    0.000699\n",
              "5.0    0.000349\n",
              "7.0    0.000116\n",
              "Name: Loans, dtype: float64"
            ]
          },
          "execution_count": 131,
          "metadata": {},
          "output_type": "execute_result"
        }
      ],
      "source": [
        "##MILLENIALS # OF LOANS WITH QNBT\n",
        "millennial_loans = pd.DataFrame()\n",
        "millennial_loans['Loans'] = churn.loc[churn['Age_demographics'] == \"Millennial\", '#_Loan_Cust'].dropna()\n",
        "millennial_loans['Churn'] = churn['Churned'].dropna()\n",
        "\n",
        "X = millennial_loans['Loans'].values.reshape(-1,1)\n",
        "y = millennial_loans['Churn'].values.reshape(-1,1)\n",
        "\n",
        "lr = LogisticRegression()\n",
        "lr.fit(X,y)\n",
        "\n",
        "print(lr.coef_)\n",
        "print(lr.intercept_)\n",
        "\n",
        "#Loans Percentages\n",
        "millennial_loans['Loans'].value_counts(normalize=True)"
      ]
    },
    {
      "cell_type": "code",
      "execution_count": null,
      "metadata": {
        "colab": {
          "base_uri": "https://localhost:8080/"
        },
        "id": "jM23h4759qtN",
        "outputId": "f9931cc2-d97a-4759-b202-166439360dbf"
      },
      "outputs": [
        {
          "name": "stdout",
          "output_type": "stream",
          "text": [
            "[[-0.06503968]]\n",
            "[-3.08416221]\n"
          ]
        },
        {
          "name": "stderr",
          "output_type": "stream",
          "text": [
            "/usr/local/lib/python3.8/dist-packages/sklearn/utils/validation.py:993: DataConversionWarning: A column-vector y was passed when a 1d array was expected. Please change the shape of y to (n_samples, ), for example using ravel().\n",
            "  y = column_or_1d(y, warn=True)\n"
          ]
        },
        {
          "data": {
            "text/plain": [
              "6.75     0.017145\n",
              "6.25     0.017099\n",
              "2.17     0.011091\n",
              "1.17     0.010375\n",
              "0.17     0.010144\n",
              "           ...   \n",
              "50.75    0.000023\n",
              "34.92    0.000023\n",
              "49.67    0.000023\n",
              "34.75    0.000023\n",
              "54.92    0.000023\n",
              "Name: Years as a Customer, Length: 627, dtype: float64"
            ]
          },
          "execution_count": 132,
          "metadata": {},
          "output_type": "execute_result"
        }
      ],
      "source": [
        "##OVERALL TIME WITH QNBT & CHURN\n",
        "time = pd.DataFrame()\n",
        "time['Years as a Customer'] = churn['Years as a Customer'].dropna()\n",
        "time['Churn'] = churn['Churned'].dropna()\n",
        "\n",
        "#Years as a Customer\n",
        "X = time['Years as a Customer'].values.reshape(-1,1)\n",
        "y = time['Churn'].values.reshape(-1,1)\n",
        "\n",
        "lr = LogisticRegression()\n",
        "lr.fit(X,y)\n",
        "\n",
        "print(lr.coef_)\n",
        "print(lr.intercept_)\n",
        "\n",
        "#Loans Percentages\n",
        "time['Years as a Customer'].value_counts(normalize=True)"
      ]
    },
    {
      "cell_type": "code",
      "execution_count": null,
      "metadata": {
        "colab": {
          "base_uri": "https://localhost:8080/"
        },
        "id": "96bkpTFL-Sc9",
        "outputId": "240efc5c-29a7-4acc-b062-d0102b0eaeb5"
      },
      "outputs": [
        {
          "name": "stdout",
          "output_type": "stream",
          "text": [
            "[[-0.11161619]]\n",
            "[-2.94972635]\n"
          ]
        },
        {
          "name": "stderr",
          "output_type": "stream",
          "text": [
            "/usr/local/lib/python3.8/dist-packages/sklearn/utils/validation.py:993: DataConversionWarning: A column-vector y was passed when a 1d array was expected. Please change the shape of y to (n_samples, ), for example using ravel().\n",
            "  y = column_or_1d(y, warn=True)\n"
          ]
        }
      ],
      "source": [
        "##GEN Z TIME WITH QNBT & CHURN\n",
        "genz_time = pd.DataFrame()\n",
        "genz_time['Years as a Customer'] = churn.loc[churn['Age_demographics'] == \"Gen Z\", 'Years as a Customer'].dropna()\n",
        "genz_time['Churn'] = churn['Churned'].dropna()\n",
        "\n",
        "X = genz_time['Years as a Customer'].values.reshape(-1,1)\n",
        "y = genz_time['Churn'].values.reshape(-1,1)\n",
        "\n",
        "lr = LogisticRegression()\n",
        "lr.fit(X,y)\n",
        "\n",
        "print(lr.coef_)\n",
        "print(lr.intercept_)"
      ]
    },
    {
      "cell_type": "code",
      "execution_count": null,
      "metadata": {
        "colab": {
          "base_uri": "https://localhost:8080/"
        },
        "id": "sNIalPY19n9b",
        "outputId": "310fef93-acb1-4e6f-da95-97b97008e93c"
      },
      "outputs": [
        {
          "name": "stdout",
          "output_type": "stream",
          "text": [
            "[[-0.10227261]]\n",
            "[-2.50113352]\n"
          ]
        },
        {
          "name": "stderr",
          "output_type": "stream",
          "text": [
            "/usr/local/lib/python3.8/dist-packages/sklearn/utils/validation.py:993: DataConversionWarning: A column-vector y was passed when a 1d array was expected. Please change the shape of y to (n_samples, ), for example using ravel().\n",
            "  y = column_or_1d(y, warn=True)\n"
          ]
        }
      ],
      "source": [
        "##MILLENNIAL TIME WITH QNBT & CHURN\n",
        "millennial_time = pd.DataFrame()\n",
        "millennial_time['Years as a Customer'] = churn.loc[churn['Age_demographics'] == \"Millennial\", 'Years as a Customer'].dropna()\n",
        "millennial_time['Churn'] = churn['Churned'].dropna()\n",
        "\n",
        "X = millennial_time['Years as a Customer'].values.reshape(-1,1)\n",
        "y = millennial_time['Churn'].values.reshape(-1,1)\n",
        "\n",
        "lr = LogisticRegression()\n",
        "lr.fit(X,y)\n",
        "\n",
        "print(lr.coef_)\n",
        "print(lr.intercept_)"
      ]
    },
    {
      "cell_type": "code",
      "source": [
        "reg = pd.DataFrame()\n",
        "reg['Number_of_Debit_Cards'] = pcc_df['#_Debit_Card_Cust']\n",
        "reg['Mortgage_Customer'] = pcc_df['Mortgage_Customer']\n",
        "reg['Savings_Accounts'] = pcc_df['#_SV_Cust']\n",
        "reg['Accounts_Remaining'] = pcc_df['Accounts Remaining']\n",
        "reg['Years_as_Customer'] = pcc_df['Years as a Customer']\n",
        "reg['Customer_Churn'] = pcc_df['Customer-Level Churn']\n",
        "reg.head(50)\n",
        "\n",
        "#Test how credit rating and student status effect credit card balance.\n",
        "result = smf.ols(formula='Customer_Churn ~ Number_of_Debit_Cards+Mortgage_Customer+Savings_Accounts+Accounts_Remaining+Years_as_Customer', data=reg).fit()\n",
        "print(result.summary())"
      ],
      "metadata": {
        "colab": {
          "base_uri": "https://localhost:8080/"
        },
        "id": "WgWH21NYn_4D",
        "outputId": "929fb2fc-1a90-4904-f3d2-80df70651d19"
      },
      "execution_count": null,
      "outputs": [
        {
          "output_type": "stream",
          "name": "stdout",
          "text": [
            "                            OLS Regression Results                            \n",
            "==============================================================================\n",
            "Dep. Variable:         Customer_Churn   R-squared:                       0.111\n",
            "Model:                            OLS   Adj. R-squared:                  0.111\n",
            "Method:                 Least Squares   F-statistic:                     922.4\n",
            "Date:                Mon, 05 Dec 2022   Prob (F-statistic):               0.00\n",
            "Time:                        05:01:19   Log-Likelihood:                 20077.\n",
            "No. Observations:               36907   AIC:                        -4.014e+04\n",
            "Df Residuals:                   36901   BIC:                        -4.009e+04\n",
            "Df Model:                           5                                         \n",
            "Covariance Type:            nonrobust                                         \n",
            "=========================================================================================\n",
            "                            coef    std err          t      P>|t|      [0.025      0.975]\n",
            "-----------------------------------------------------------------------------------------\n",
            "Intercept                 0.1032      0.002     56.224      0.000       0.100       0.107\n",
            "Number_of_Debit_Cards     0.0283      0.001     22.552      0.000       0.026       0.031\n",
            "Mortgage_Customer         0.0067      0.005      1.460      0.144      -0.002       0.016\n",
            "Savings_Accounts          0.0464      0.002     26.325      0.000       0.043       0.050\n",
            "Accounts_Remaining       -0.0843      0.001    -65.849      0.000      -0.087      -0.082\n",
            "Years_as_Customer        -0.0002   8.14e-05     -2.610      0.009      -0.000    -5.3e-05\n",
            "==============================================================================\n",
            "Omnibus:                    38088.457   Durbin-Watson:                   1.697\n",
            "Prob(Omnibus):                  0.000   Jarque-Bera (JB):          1614785.120\n",
            "Skew:                           5.424   Prob(JB):                         0.00\n",
            "Kurtosis:                      33.535   Cond. No.                         86.9\n",
            "==============================================================================\n",
            "\n",
            "Notes:\n",
            "[1] Standard Errors assume that the covariance matrix of the errors is correctly specified.\n"
          ]
        }
      ]
    }
  ],
  "metadata": {
    "colab": {
      "provenance": []
    },
    "kernelspec": {
      "display_name": "Python 3",
      "name": "python3"
    },
    "language_info": {
      "name": "python"
    }
  },
  "nbformat": 4,
  "nbformat_minor": 0
}